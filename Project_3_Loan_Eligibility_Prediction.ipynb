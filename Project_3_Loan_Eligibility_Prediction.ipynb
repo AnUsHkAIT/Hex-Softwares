{
  "nbformat": 4,
  "nbformat_minor": 0,
  "metadata": {
    "colab": {
      "provenance": [],
      "authorship_tag": "ABX9TyMoKTxzG0Lx06fBZXs2ly1h",
      "include_colab_link": true
    },
    "kernelspec": {
      "name": "python3",
      "display_name": "Python 3"
    },
    "language_info": {
      "name": "python"
    }
  },
  "cells": [
    {
      "cell_type": "markdown",
      "metadata": {
        "id": "view-in-github",
        "colab_type": "text"
      },
      "source": [
        "<a href=\"https://colab.research.google.com/github/AnUsHkAIT/Hex-Softwares/blob/main/Project_3_Loan_Eligibility_Prediction.ipynb\" target=\"_parent\"><img src=\"https://colab.research.google.com/assets/colab-badge.svg\" alt=\"Open In Colab\"/></a>"
      ]
    },
    {
      "cell_type": "code",
      "execution_count": 2,
      "metadata": {
        "colab": {
          "base_uri": "https://localhost:8080/"
        },
        "id": "Az7U6JxuBgDu",
        "outputId": "b107bce6-1e94-4655-9c12-6a4b4a3fda7d"
      },
      "outputs": [
        {
          "output_type": "stream",
          "name": "stdout",
          "text": [
            "['test_Y3wMUE5_7gLdaTN.csv', 'train_u6lujuX_CVtuZ9i.csv']\n"
          ]
        }
      ],
      "source": [
        "# Unzipping the uploaded file\n",
        "import zipfile\n",
        "import os\n",
        "\n",
        "# Define the path where the file is uploaded\n",
        "zip_file_path = '/content/archive.zip'\n",
        "\n",
        "# Unzip the file\n",
        "with zipfile.ZipFile(zip_file_path, 'r') as zip_ref:\n",
        "    zip_ref.extractall('/content/loan_dataset')\n",
        "\n",
        "# Check the extracted files\n",
        "extracted_files = os.listdir('/content/loan_dataset')\n",
        "print(extracted_files)\n"
      ]
    },
    {
      "cell_type": "code",
      "source": [
        "import os\n",
        "\n",
        "# Check the extracted files\n",
        "extracted_files = os.listdir('/content/loan_dataset')\n",
        "print(extracted_files)\n"
      ],
      "metadata": {
        "colab": {
          "base_uri": "https://localhost:8080/"
        },
        "id": "jPxWVXRoB4xs",
        "outputId": "f754ddc2-4c6f-4bc7-eb75-5d46a52f7a65"
      },
      "execution_count": 4,
      "outputs": [
        {
          "output_type": "stream",
          "name": "stdout",
          "text": [
            "['test_Y3wMUE5_7gLdaTN.csv', 'train_u6lujuX_CVtuZ9i.csv']\n"
          ]
        }
      ]
    },
    {
      "cell_type": "code",
      "source": [
        "import pandas as pd\n",
        "\n",
        "# Load the training dataset\n",
        "train_path = '/content/loan_dataset/train_u6lujuX_CVtuZ9i.csv'\n",
        "loan_df = pd.read_csv(train_path)\n",
        "\n",
        "# Check the first few rows\n",
        "print(loan_df.head())\n"
      ],
      "metadata": {
        "colab": {
          "base_uri": "https://localhost:8080/"
        },
        "id": "_dUzaWpCCUHU",
        "outputId": "8d1ca341-a3f3-49f6-ea9d-2dff5f0a340f"
      },
      "execution_count": 5,
      "outputs": [
        {
          "output_type": "stream",
          "name": "stdout",
          "text": [
            "    Loan_ID Gender Married Dependents     Education Self_Employed  \\\n",
            "0  LP001002   Male      No          0      Graduate            No   \n",
            "1  LP001003   Male     Yes          1      Graduate            No   \n",
            "2  LP001005   Male     Yes          0      Graduate           Yes   \n",
            "3  LP001006   Male     Yes          0  Not Graduate            No   \n",
            "4  LP001008   Male      No          0      Graduate            No   \n",
            "\n",
            "   ApplicantIncome  CoapplicantIncome  LoanAmount  Loan_Amount_Term  \\\n",
            "0             5849                0.0         NaN             360.0   \n",
            "1             4583             1508.0       128.0             360.0   \n",
            "2             3000                0.0        66.0             360.0   \n",
            "3             2583             2358.0       120.0             360.0   \n",
            "4             6000                0.0       141.0             360.0   \n",
            "\n",
            "   Credit_History Property_Area Loan_Status  \n",
            "0             1.0         Urban           Y  \n",
            "1             1.0         Rural           N  \n",
            "2             1.0         Urban           Y  \n",
            "3             1.0         Urban           Y  \n",
            "4             1.0         Urban           Y  \n"
          ]
        }
      ]
    },
    {
      "cell_type": "code",
      "source": [
        "# Check basic info\n",
        "print(loan_df.info())\n",
        "\n",
        "# Check for missing values\n",
        "print(loan_df.isnull().sum())\n",
        "\n",
        "# Statistical summary\n",
        "print(loan_df.describe())\n",
        "\n",
        "# Target variable distribution\n",
        "print(loan_df['Loan_Status'].value_counts())\n"
      ],
      "metadata": {
        "colab": {
          "base_uri": "https://localhost:8080/"
        },
        "id": "0n33ZmiyCjuw",
        "outputId": "1afb59ad-816c-4b70-defb-eb8f72490b12"
      },
      "execution_count": 6,
      "outputs": [
        {
          "output_type": "stream",
          "name": "stdout",
          "text": [
            "<class 'pandas.core.frame.DataFrame'>\n",
            "RangeIndex: 614 entries, 0 to 613\n",
            "Data columns (total 13 columns):\n",
            " #   Column             Non-Null Count  Dtype  \n",
            "---  ------             --------------  -----  \n",
            " 0   Loan_ID            614 non-null    object \n",
            " 1   Gender             601 non-null    object \n",
            " 2   Married            611 non-null    object \n",
            " 3   Dependents         599 non-null    object \n",
            " 4   Education          614 non-null    object \n",
            " 5   Self_Employed      582 non-null    object \n",
            " 6   ApplicantIncome    614 non-null    int64  \n",
            " 7   CoapplicantIncome  614 non-null    float64\n",
            " 8   LoanAmount         592 non-null    float64\n",
            " 9   Loan_Amount_Term   600 non-null    float64\n",
            " 10  Credit_History     564 non-null    float64\n",
            " 11  Property_Area      614 non-null    object \n",
            " 12  Loan_Status        614 non-null    object \n",
            "dtypes: float64(4), int64(1), object(8)\n",
            "memory usage: 62.5+ KB\n",
            "None\n",
            "Loan_ID               0\n",
            "Gender               13\n",
            "Married               3\n",
            "Dependents           15\n",
            "Education             0\n",
            "Self_Employed        32\n",
            "ApplicantIncome       0\n",
            "CoapplicantIncome     0\n",
            "LoanAmount           22\n",
            "Loan_Amount_Term     14\n",
            "Credit_History       50\n",
            "Property_Area         0\n",
            "Loan_Status           0\n",
            "dtype: int64\n",
            "       ApplicantIncome  CoapplicantIncome  LoanAmount  Loan_Amount_Term  \\\n",
            "count       614.000000         614.000000  592.000000         600.00000   \n",
            "mean       5403.459283        1621.245798  146.412162         342.00000   \n",
            "std        6109.041673        2926.248369   85.587325          65.12041   \n",
            "min         150.000000           0.000000    9.000000          12.00000   \n",
            "25%        2877.500000           0.000000  100.000000         360.00000   \n",
            "50%        3812.500000        1188.500000  128.000000         360.00000   \n",
            "75%        5795.000000        2297.250000  168.000000         360.00000   \n",
            "max       81000.000000       41667.000000  700.000000         480.00000   \n",
            "\n",
            "       Credit_History  \n",
            "count      564.000000  \n",
            "mean         0.842199  \n",
            "std          0.364878  \n",
            "min          0.000000  \n",
            "25%          1.000000  \n",
            "50%          1.000000  \n",
            "75%          1.000000  \n",
            "max          1.000000  \n",
            "Loan_Status\n",
            "Y    422\n",
            "N    192\n",
            "Name: count, dtype: int64\n"
          ]
        }
      ]
    },
    {
      "cell_type": "code",
      "source": [
        "from sklearn.preprocessing import LabelEncoder\n",
        "\n",
        "# Fill missing values for numerical columns with median\n",
        "loan_df['LoanAmount'].fillna(loan_df['LoanAmount'].median(), inplace=True)\n",
        "loan_df['Loan_Amount_Term'].fillna(loan_df['Loan_Amount_Term'].median(), inplace=True)\n",
        "loan_df['Credit_History'].fillna(loan_df['Credit_History'].mode()[0], inplace=True)\n",
        "\n",
        "# Fill missing values for categorical columns with mode\n",
        "loan_df['Gender'].fillna(loan_df['Gender'].mode()[0], inplace=True)\n",
        "loan_df['Married'].fillna(loan_df['Married'].mode()[0], inplace=True)\n",
        "loan_df['Dependents'].fillna(loan_df['Dependents'].mode()[0], inplace=True)\n",
        "loan_df['Self_Employed'].fillna(loan_df['Self_Employed'].mode()[0], inplace=True)\n",
        "\n",
        "# Encode categorical features\n",
        "le = LabelEncoder()\n",
        "for col in ['Gender', 'Married', 'Education', 'Self_Employed', 'Property_Area', 'Loan_Status']:\n",
        "    loan_df[col] = le.fit_transform(loan_df[col])\n",
        "\n",
        "# Check the updated DataFrame\n",
        "print(loan_df.head())\n"
      ],
      "metadata": {
        "colab": {
          "base_uri": "https://localhost:8080/"
        },
        "id": "uIJwr9kHClEj",
        "outputId": "333a3176-85c8-4e98-fdd3-a44079b4af7c"
      },
      "execution_count": 7,
      "outputs": [
        {
          "output_type": "stream",
          "name": "stdout",
          "text": [
            "    Loan_ID  Gender  Married Dependents  Education  Self_Employed  \\\n",
            "0  LP001002       1        0          0          0              0   \n",
            "1  LP001003       1        1          1          0              0   \n",
            "2  LP001005       1        1          0          0              1   \n",
            "3  LP001006       1        1          0          1              0   \n",
            "4  LP001008       1        0          0          0              0   \n",
            "\n",
            "   ApplicantIncome  CoapplicantIncome  LoanAmount  Loan_Amount_Term  \\\n",
            "0             5849                0.0       128.0             360.0   \n",
            "1             4583             1508.0       128.0             360.0   \n",
            "2             3000                0.0        66.0             360.0   \n",
            "3             2583             2358.0       120.0             360.0   \n",
            "4             6000                0.0       141.0             360.0   \n",
            "\n",
            "   Credit_History  Property_Area  Loan_Status  \n",
            "0             1.0              2            1  \n",
            "1             1.0              0            0  \n",
            "2             1.0              2            1  \n",
            "3             1.0              2            1  \n",
            "4             1.0              2            1  \n"
          ]
        }
      ]
    },
    {
      "cell_type": "code",
      "source": [
        "# Define features and target variable\n",
        "X = loan_df.drop('Loan_Status', axis=1)\n",
        "y = loan_df['Loan_Status']\n",
        "\n",
        "# Check the shapes\n",
        "print(X.shape, y.shape)\n"
      ],
      "metadata": {
        "colab": {
          "base_uri": "https://localhost:8080/"
        },
        "id": "IKalLm5LCm4m",
        "outputId": "3435a366-fe50-4931-9fe1-aea1853788ce"
      },
      "execution_count": 8,
      "outputs": [
        {
          "output_type": "stream",
          "name": "stdout",
          "text": [
            "(614, 12) (614,)\n"
          ]
        }
      ]
    },
    {
      "cell_type": "code",
      "source": [
        "# Check for non-numeric values in the features\n",
        "non_numeric_columns = X.select_dtypes(include=['object']).columns\n",
        "print(\"Non-numeric columns:\", non_numeric_columns)\n"
      ],
      "metadata": {
        "colab": {
          "base_uri": "https://localhost:8080/"
        },
        "id": "9j1x9KReCq4T",
        "outputId": "6a41632d-5ce3-4a5c-b906-1a86cf2a85d8"
      },
      "execution_count": 10,
      "outputs": [
        {
          "output_type": "stream",
          "name": "stdout",
          "text": [
            "Non-numeric columns: Index(['Loan_ID', 'Dependents'], dtype='object')\n"
          ]
        }
      ]
    },
    {
      "cell_type": "code",
      "source": [
        "# Example: Re-encode categorical columns if needed\n",
        "from sklearn.preprocessing import LabelEncoder\n",
        "\n",
        "le = LabelEncoder()\n",
        "for col in non_numeric_columns:\n",
        "    X[col] = le.fit_transform(X[col].astype(str))  # Ensure all values are treated as strings\n",
        "\n",
        "# Check the updated DataFrame\n",
        "print(X.head())\n"
      ],
      "metadata": {
        "colab": {
          "base_uri": "https://localhost:8080/"
        },
        "id": "OEjS_AR4CvWF",
        "outputId": "9ac6c885-305d-40b0-f2c7-bf44eb269a69"
      },
      "execution_count": 11,
      "outputs": [
        {
          "output_type": "stream",
          "name": "stdout",
          "text": [
            "   Loan_ID  Gender  Married  Dependents  Education  Self_Employed  \\\n",
            "0        0       1        0           0          0              0   \n",
            "1        1       1        1           1          0              0   \n",
            "2        2       1        1           0          0              1   \n",
            "3        3       1        1           0          1              0   \n",
            "4        4       1        0           0          0              0   \n",
            "\n",
            "   ApplicantIncome  CoapplicantIncome  LoanAmount  Loan_Amount_Term  \\\n",
            "0             5849                0.0       128.0             360.0   \n",
            "1             4583             1508.0       128.0             360.0   \n",
            "2             3000                0.0        66.0             360.0   \n",
            "3             2583             2358.0       120.0             360.0   \n",
            "4             6000                0.0       141.0             360.0   \n",
            "\n",
            "   Credit_History  Property_Area  \n",
            "0             1.0              2  \n",
            "1             1.0              0  \n",
            "2             1.0              2  \n",
            "3             1.0              2  \n",
            "4             1.0              2  \n"
          ]
        }
      ]
    },
    {
      "cell_type": "code",
      "source": [
        "# Convert all feature columns to numeric, if possible\n",
        "X = X.apply(pd.to_numeric, errors='coerce')\n",
        "\n",
        "# Check for any remaining non-numeric values\n",
        "print(X.isnull().sum())\n"
      ],
      "metadata": {
        "colab": {
          "base_uri": "https://localhost:8080/"
        },
        "id": "lkdjkLgbC4LZ",
        "outputId": "0d2a0d27-ac54-49d0-99bb-db35d22f21b1"
      },
      "execution_count": 12,
      "outputs": [
        {
          "output_type": "stream",
          "name": "stdout",
          "text": [
            "Loan_ID              0\n",
            "Gender               0\n",
            "Married              0\n",
            "Dependents           0\n",
            "Education            0\n",
            "Self_Employed        0\n",
            "ApplicantIncome      0\n",
            "CoapplicantIncome    0\n",
            "LoanAmount           0\n",
            "Loan_Amount_Term     0\n",
            "Credit_History       0\n",
            "Property_Area        0\n",
            "dtype: int64\n"
          ]
        }
      ]
    },
    {
      "cell_type": "code",
      "source": [
        "# Fill missing values\n",
        "X.fillna(X.median(), inplace=True)  # You might also use other strategies depending on your dataset\n"
      ],
      "metadata": {
        "id": "2dSqV8zEC5hy"
      },
      "execution_count": 13,
      "outputs": []
    },
    {
      "cell_type": "code",
      "source": [
        "from sklearn.model_selection import train_test_split\n",
        "from sklearn.linear_model import LogisticRegression\n",
        "from sklearn.metrics import accuracy_score, classification_report\n",
        "\n",
        "# Split the data again after preprocessing\n",
        "X_train, X_test, y_train, y_test = train_test_split(X, y, test_size=0.3, random_state=42)\n",
        "\n",
        "# Initialize and train the model\n",
        "model = LogisticRegression(max_iter=1000)\n",
        "model.fit(X_train, y_train)\n",
        "\n",
        "# Make predictions\n",
        "y_pred = model.predict(X_test)\n",
        "\n",
        "# Evaluate the model\n",
        "print(\"Accuracy Score:\", accuracy_score(y_test, y_pred))\n",
        "print(\"Classification Report:\\n\", classification_report(y_test, y_pred))\n"
      ],
      "metadata": {
        "colab": {
          "base_uri": "https://localhost:8080/"
        },
        "id": "DV9kcWgcC635",
        "outputId": "f5277221-c9ac-49fa-ebf9-bd1d5de573d0"
      },
      "execution_count": 14,
      "outputs": [
        {
          "output_type": "stream",
          "name": "stdout",
          "text": [
            "Accuracy Score: 0.7837837837837838\n",
            "Classification Report:\n",
            "               precision    recall  f1-score   support\n",
            "\n",
            "           0       0.93      0.42      0.57        65\n",
            "           1       0.76      0.98      0.86       120\n",
            "\n",
            "    accuracy                           0.78       185\n",
            "   macro avg       0.84      0.70      0.71       185\n",
            "weighted avg       0.82      0.78      0.76       185\n",
            "\n"
          ]
        }
      ]
    }
  ]
}